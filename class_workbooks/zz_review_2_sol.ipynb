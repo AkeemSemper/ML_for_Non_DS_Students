{
 "cells": [
  {
   "cell_type": "code",
   "execution_count": 54,
   "metadata": {},
   "outputs": [],
   "source": [
    "import pandas as pd\n",
    "import numpy as np"
   ]
  },
  {
   "cell_type": "markdown",
   "metadata": {},
   "source": [
    "# Questions\n",
    "\n",
    "<b>Notes:</b> \n",
    "<ul>\n",
    "<li> Each of these questions, there are several ways to solve them. Which you choose doesn't matter, just make it work. Each is doable with simple, basic loops and conditions - they are also doable with other techniques that will result in shorter and more concise code, but you'd need to search and implement them. </li>\n",
    "<li> Work incrementally - can you grab the inputs, can you print them, can you change one thing, can you return a dummy value, can you loop through the data without doing anything, can you print in that loop to make sure you are hitting all items, etc... each little bit is relatively easy on its own. </li>\n",
    "<li> Build the logic in English (pseudo code) first, then translate it to Python. </li>\n",
    "<li> Make sure you create some kind of test to make sure that you are producing the correct output, and so that as you build you can see what the output is, perhaps with some more details. These should be pretty simple to test. </li>\n",
    "</li>"
   ]
  },
  {
   "cell_type": "code",
   "execution_count": 55,
   "metadata": {},
   "outputs": [
    {
     "name": "stdout",
     "output_type": "stream",
     "text": [
      "Code is not running in Google Colab\n"
     ]
    }
   ],
   "source": [
    "import sys\n",
    "# Grab Data\n",
    "FILE_1 = \"Internation_students_Canada.csv\"\n",
    "IN_COLAB = 'google.colab' in sys.modules\n",
    "if IN_COLAB:\n",
    "    print(\"Code is running in Google Colab\")\n",
    "    #!wget -nc https://raw.githubusercontent.com/Explore-AI/Public-Data/master/AnalyseProject/Internation_students_Canada.csv\n",
    "else:\n",
    "    print(\"Code is not running in Google Colab\")\n"
   ]
  },
  {
   "cell_type": "markdown",
   "metadata": {},
   "source": [
    "## Standard Deviation\n",
    "\n",
    "Write a function that takes in a data structure such as a list, and calculates the standard deviation of the data. If there are <b><i>any</i></b> non-numeric values in the list, the function should return -1. \n",
    "\n",
    "<b>Note:</b> you do not need to manually calculate the standard deviation, you can use an existing library."
   ]
  },
  {
   "cell_type": "code",
   "execution_count": 56,
   "metadata": {},
   "outputs": [],
   "source": [
    "def calculate_standard_deviation(data):\n",
    "    # Check if the data contains non-numeric values\n",
    "    if any(not isinstance(x, (int, float)) for x in data):\n",
    "        return -1\n",
    "    else:\n",
    "        std_dev = np.std(data)\n",
    "        return std_dev\n"
   ]
  },
  {
   "cell_type": "code",
   "execution_count": 57,
   "metadata": {},
   "outputs": [
    {
     "name": "stdout",
     "output_type": "stream",
     "text": [
      "1.4142135623730951\n",
      "-1\n"
     ]
    }
   ],
   "source": [
    "test_list_1 = [1, 2, 3, 4, 5]\n",
    "test_list_2 = [1, 2, 3, 4, 5, 'a']\n",
    "print(calculate_standard_deviation(test_list_1))\n",
    "print(calculate_standard_deviation(test_list_2))"
   ]
  },
  {
   "cell_type": "markdown",
   "metadata": {},
   "source": [
    "## Written Digits\n",
    "\n",
    "Write a function that takes in a number as an input, and returns that number as <b>a string of the written digits (0-9)</b> in a list. For example, if the input is 123, the output should be ['one', 'two', 'three']."
   ]
  },
  {
   "cell_type": "code",
   "execution_count": 58,
   "metadata": {},
   "outputs": [
    {
     "name": "stdout",
     "output_type": "stream",
     "text": [
      "['one', 'two', 'three']\n"
     ]
    }
   ],
   "source": [
    "def number_to_string_digits(num):\n",
    "    digit_map = {\n",
    "        '0': 'zero',\n",
    "        '1': 'one',\n",
    "        '2': 'two',\n",
    "        '3': 'three',\n",
    "        '4': 'four',\n",
    "        '5': 'five',\n",
    "        '6': 'six',\n",
    "        '7': 'seven',\n",
    "        '8': 'eight',\n",
    "        '9': 'nine'\n",
    "    }\n",
    "    return [digit_map[digit] for digit in str(num)]\n",
    "\n",
    "# Example usage\n",
    "number = 123\n",
    "result = number_to_string_digits(number)\n",
    "print(result)  # Output: ['one', 'two', 'three']\n"
   ]
  },
  {
   "cell_type": "markdown",
   "metadata": {},
   "source": [
    "## Stats Per Country\n",
    "\n",
    "This dataset contains a listing of the number of international students in Canada from each country, for each year 2015-2023. Create a function that takes in a dataframe in the format of the one loaded here, and returns a dataframe with the highest amount, lowest amount, and the year of the highest amount for each country. For example, one row of output would be:\n",
    "\n",
    "``` python\n",
    "Country\t    High    Low\t    Highest Year\n",
    "Afghanistan 170     80\t    2022\n",
    "```\n",
    "\n",
    "<b>Notes:</b> \n",
    "<ul>\n",
    "<li> This is doable both with a loop, and directly with calculations, loop-free. Looping is much easier, conceptually - think about looping through each row, grab the data you need, manipulate it as needed, then add it to an output.</li>\n",
    "<li> Some commands/functions that might be useful (not necissarily - depending on what you do you may/may not care about these):\n",
    "    <ul>\n",
    "    <li> pd.concat() </li>\n",
    "    <li> dataframe.columns </li>\n",
    "    </ul>\n",
    "<li> A sample for loop that loops through each row in a dataframe:\n",
    "    <ul>\n",
    "    <li> for index, row in df.iterrows(): </li>\n",
    "    </ul>\n",
    "<li> Again, depending on what you do, you may get warnings about adding/combining data into a dataframe. Ignore these, it just means that the way a function works in pandas will change soon. </li>\n",
    "</ul>"
   ]
  },
  {
   "cell_type": "code",
   "execution_count": 59,
   "metadata": {},
   "outputs": [
    {
     "data": {
      "text/html": [
       "<div>\n",
       "<style scoped>\n",
       "    .dataframe tbody tr th:only-of-type {\n",
       "        vertical-align: middle;\n",
       "    }\n",
       "\n",
       "    .dataframe tbody tr th {\n",
       "        vertical-align: top;\n",
       "    }\n",
       "\n",
       "    .dataframe thead th {\n",
       "        text-align: right;\n",
       "    }\n",
       "</style>\n",
       "<table border=\"1\" class=\"dataframe\">\n",
       "  <thead>\n",
       "    <tr style=\"text-align: right;\">\n",
       "      <th></th>\n",
       "      <th>Country of Citizenship</th>\n",
       "      <th>2015</th>\n",
       "      <th>2016</th>\n",
       "      <th>2017</th>\n",
       "      <th>2018</th>\n",
       "      <th>2019</th>\n",
       "      <th>2020</th>\n",
       "      <th>2021</th>\n",
       "      <th>2022</th>\n",
       "      <th>2023</th>\n",
       "    </tr>\n",
       "  </thead>\n",
       "  <tbody>\n",
       "    <tr>\n",
       "      <th>0</th>\n",
       "      <td>Afghanistan</td>\n",
       "      <td>95</td>\n",
       "      <td>115</td>\n",
       "      <td>95</td>\n",
       "      <td>80</td>\n",
       "      <td>95</td>\n",
       "      <td>90</td>\n",
       "      <td>80</td>\n",
       "      <td>170</td>\n",
       "      <td>140</td>\n",
       "    </tr>\n",
       "    <tr>\n",
       "      <th>1</th>\n",
       "      <td>Albania</td>\n",
       "      <td>115</td>\n",
       "      <td>165</td>\n",
       "      <td>185</td>\n",
       "      <td>245</td>\n",
       "      <td>375</td>\n",
       "      <td>250</td>\n",
       "      <td>305</td>\n",
       "      <td>345</td>\n",
       "      <td>545</td>\n",
       "    </tr>\n",
       "    <tr>\n",
       "      <th>2</th>\n",
       "      <td>Algeria</td>\n",
       "      <td>1060</td>\n",
       "      <td>845</td>\n",
       "      <td>1020</td>\n",
       "      <td>1490</td>\n",
       "      <td>2690</td>\n",
       "      <td>2170</td>\n",
       "      <td>3165</td>\n",
       "      <td>5360</td>\n",
       "      <td>7180</td>\n",
       "    </tr>\n",
       "    <tr>\n",
       "      <th>3</th>\n",
       "      <td>Andorra</td>\n",
       "      <td>0</td>\n",
       "      <td>0</td>\n",
       "      <td>0</td>\n",
       "      <td>0</td>\n",
       "      <td>0</td>\n",
       "      <td>0</td>\n",
       "      <td>10</td>\n",
       "      <td>5</td>\n",
       "      <td>0</td>\n",
       "    </tr>\n",
       "    <tr>\n",
       "      <th>4</th>\n",
       "      <td>Angola</td>\n",
       "      <td>65</td>\n",
       "      <td>80</td>\n",
       "      <td>40</td>\n",
       "      <td>25</td>\n",
       "      <td>120</td>\n",
       "      <td>30</td>\n",
       "      <td>50</td>\n",
       "      <td>75</td>\n",
       "      <td>65</td>\n",
       "    </tr>\n",
       "  </tbody>\n",
       "</table>\n",
       "</div>"
      ],
      "text/plain": [
       "  Country of Citizenship  2015  2016  2017  2018  2019  2020  2021  2022  2023\n",
       "0            Afghanistan    95   115    95    80    95    90    80   170   140\n",
       "1                Albania   115   165   185   245   375   250   305   345   545\n",
       "2                Algeria  1060   845  1020  1490  2690  2170  3165  5360  7180\n",
       "3                Andorra     0     0     0     0     0     0    10     5     0\n",
       "4                 Angola    65    80    40    25   120    30    50    75    65"
      ]
     },
     "execution_count": 59,
     "metadata": {},
     "output_type": "execute_result"
    }
   ],
   "source": [
    "df_students = pd.read_csv(\"Internation_students_Canada.csv\")\n",
    "df_students.head()"
   ]
  },
  {
   "cell_type": "code",
   "execution_count": 60,
   "metadata": {},
   "outputs": [],
   "source": [
    "def calculate_range_and_highest_column(df):\n",
    "    df_results = pd.DataFrame(columns=['Country', 'High', 'Low', \"Highest Year\"])\n",
    "    for index, row in df.iterrows():\n",
    "        country = row['Country of Citizenship']\n",
    "        columns_to_check = df.drop(columns=['Country of Citizenship']).columns\n",
    "        highest = -1\n",
    "        lowest = -1\n",
    "        high_col = \"\"\n",
    "        for column in columns_to_check:\n",
    "            if highest == -1 or row[column] > highest:\n",
    "                highest = row[column]\n",
    "                high_col = column\n",
    "            if lowest == -1 or row[column] < lowest:\n",
    "                lowest = row[column]\n",
    "        #df_results = df_results.append({'Country': country, 'High': highest, 'Low': lowest, \"Highest Year\": high_col}, ignore_index=True)\n",
    "        df_results = pd.concat([df_results, pd.DataFrame({'Country': [country], 'High': [highest], 'Low': [lowest], \"Highest Year\": [high_col]})])\n",
    "    return df_results.reset_index(drop=True)\n"
   ]
  },
  {
   "cell_type": "code",
   "execution_count": 61,
   "metadata": {},
   "outputs": [
    {
     "data": {
      "text/html": [
       "<div>\n",
       "<style scoped>\n",
       "    .dataframe tbody tr th:only-of-type {\n",
       "        vertical-align: middle;\n",
       "    }\n",
       "\n",
       "    .dataframe tbody tr th {\n",
       "        vertical-align: top;\n",
       "    }\n",
       "\n",
       "    .dataframe thead th {\n",
       "        text-align: right;\n",
       "    }\n",
       "</style>\n",
       "<table border=\"1\" class=\"dataframe\">\n",
       "  <thead>\n",
       "    <tr style=\"text-align: right;\">\n",
       "      <th></th>\n",
       "      <th>Country</th>\n",
       "      <th>High</th>\n",
       "      <th>Low</th>\n",
       "      <th>Highest Year</th>\n",
       "    </tr>\n",
       "  </thead>\n",
       "  <tbody>\n",
       "    <tr>\n",
       "      <th>0</th>\n",
       "      <td>Afghanistan</td>\n",
       "      <td>170</td>\n",
       "      <td>80</td>\n",
       "      <td>2022</td>\n",
       "    </tr>\n",
       "    <tr>\n",
       "      <th>1</th>\n",
       "      <td>Albania</td>\n",
       "      <td>545</td>\n",
       "      <td>115</td>\n",
       "      <td>2023</td>\n",
       "    </tr>\n",
       "    <tr>\n",
       "      <th>2</th>\n",
       "      <td>Algeria</td>\n",
       "      <td>7180</td>\n",
       "      <td>845</td>\n",
       "      <td>2023</td>\n",
       "    </tr>\n",
       "    <tr>\n",
       "      <th>3</th>\n",
       "      <td>Andorra</td>\n",
       "      <td>10</td>\n",
       "      <td>0</td>\n",
       "      <td>2021</td>\n",
       "    </tr>\n",
       "    <tr>\n",
       "      <th>4</th>\n",
       "      <td>Angola</td>\n",
       "      <td>120</td>\n",
       "      <td>25</td>\n",
       "      <td>2019</td>\n",
       "    </tr>\n",
       "    <tr>\n",
       "      <th>...</th>\n",
       "      <td>...</td>\n",
       "      <td>...</td>\n",
       "      <td>...</td>\n",
       "      <td>...</td>\n",
       "    </tr>\n",
       "    <tr>\n",
       "      <th>212</th>\n",
       "      <td>Virgin Islands, British</td>\n",
       "      <td>0</td>\n",
       "      <td>0</td>\n",
       "      <td>2015</td>\n",
       "    </tr>\n",
       "    <tr>\n",
       "      <th>213</th>\n",
       "      <td>Western Sahara</td>\n",
       "      <td>0</td>\n",
       "      <td>0</td>\n",
       "      <td>2015</td>\n",
       "    </tr>\n",
       "    <tr>\n",
       "      <th>214</th>\n",
       "      <td>Yemen</td>\n",
       "      <td>275</td>\n",
       "      <td>155</td>\n",
       "      <td>2018</td>\n",
       "    </tr>\n",
       "    <tr>\n",
       "      <th>215</th>\n",
       "      <td>Zambia</td>\n",
       "      <td>195</td>\n",
       "      <td>105</td>\n",
       "      <td>2023</td>\n",
       "    </tr>\n",
       "    <tr>\n",
       "      <th>216</th>\n",
       "      <td>Zimbabwe</td>\n",
       "      <td>730</td>\n",
       "      <td>335</td>\n",
       "      <td>2023</td>\n",
       "    </tr>\n",
       "  </tbody>\n",
       "</table>\n",
       "<p>217 rows × 4 columns</p>\n",
       "</div>"
      ],
      "text/plain": [
       "                     Country  High  Low Highest Year\n",
       "0                Afghanistan   170   80         2022\n",
       "1                    Albania   545  115         2023\n",
       "2                    Algeria  7180  845         2023\n",
       "3                    Andorra    10    0         2021\n",
       "4                     Angola   120   25         2019\n",
       "..                       ...   ...  ...          ...\n",
       "212  Virgin Islands, British     0    0         2015\n",
       "213           Western Sahara     0    0         2015\n",
       "214                    Yemen   275  155         2018\n",
       "215                   Zambia   195  105         2023\n",
       "216                 Zimbabwe   730  335         2023\n",
       "\n",
       "[217 rows x 4 columns]"
      ]
     },
     "execution_count": 61,
     "metadata": {},
     "output_type": "execute_result"
    }
   ],
   "source": [
    "calculate_range_and_highest_column(df_students)"
   ]
  }
 ],
 "metadata": {
  "kernelspec": {
   "display_name": "ml_2",
   "language": "python",
   "name": "python3"
  },
  "language_info": {
   "codemirror_mode": {
    "name": "ipython",
    "version": 3
   },
   "file_extension": ".py",
   "mimetype": "text/x-python",
   "name": "python",
   "nbconvert_exporter": "python",
   "pygments_lexer": "ipython3",
   "version": "3.10.9"
  }
 },
 "nbformat": 4,
 "nbformat_minor": 2
}
