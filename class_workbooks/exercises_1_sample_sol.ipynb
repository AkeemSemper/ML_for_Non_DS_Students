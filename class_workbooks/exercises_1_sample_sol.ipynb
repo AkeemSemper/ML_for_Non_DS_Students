{
 "cells": [
  {
   "cell_type": "code",
   "execution_count": 26,
   "metadata": {},
   "outputs": [
    {
     "name": "stdout",
     "output_type": "stream",
     "text": [
      "zsh:1: command not found: wget\n"
     ]
    }
   ],
   "source": [
    "import pandas as pd\n",
    "\n",
    "!wget -nc https://raw.githubusercontent.com/AkeemSemper/ML_for_Non_DS_Students/main/data/titanic_train.csv\n",
    "FILE_PATH = 'titanic_train.csv'"
   ]
  },
  {
   "cell_type": "markdown",
   "metadata": {},
   "source": [
    "# Practice and Review Problems\n",
    "\n",
    "Let's work through some practice exercises. Some of these will be simple, some a little more complex. For each problem, remember to tackle it systematically:\n",
    "<ul>\n",
    "<li> What is the problem asking for? (I.e. what is the end result you are doing/producing?) </li>\n",
    "<li> What are the inputs? (I.e. what do you have to get started?) </li>\n",
    "<li> These two steps basically define the start and end of a function that does what you need. </li>\n",
    "<li> What are the steps in between? Be sure to break the problem down into smaller steps. In words, not code. </li>\n",
    "<li> Walk through one execution in your head or on paper - are any steps missing, ambiguous, or actually made up of more steps and need more breaking down? </li>\n",
    "<li> Along the way, does that need any \"additons\" - new variables, pulling input from somewhere else, etc? </li>\n",
    "<li> Start the write the code, each step should translate into a line or two of code, since you have already broken it down. </li>\n",
    "<li> If you don't know how to do a step, it is now one specific thing, look for it in documentation or google \"python [thing you need to do]\" </li>\n",
    "<li> Place print statements throughout the code that print out the values of variables as they are being changed, so you can see what is happening, and check for correctness as you go. </li>\n",
    "<li> Test the code with a few different inputs to make sure it works. </li>\n",
    "<li> Bob's your uncle! </li>\n",
    "</ul>\n",
    "\n",
    "For logistics, feel free to chat in the chat, ask for breakout rooms, talk on the line, etc... Talking things out is useful. \n",
    "\n",
    "## Loading Data\n",
    "\n",
    "You might want to load some data to test, the !wget command above downloads a file from the data folder for this repository. There are many data sources in there, you can navigate through the files in the sidebar to the left by going to the URL: https://github.com/AkeemSemper/ML_for_Non_DS_Students/tree/main/data The URLs can be copied into that command to download the data - note that you need the <b>raw</b> URL - there's a raw button in the github interface to get to it after you click on a file name. Google \"github raw url\" for more info and details if you need. "
   ]
  },
  {
   "cell_type": "markdown",
   "metadata": {},
   "source": [
    "## Question 1\n",
    "\n",
    "Create a function that takes in:\n",
    "<ul>\n",
    "<li> A list of full names that can be in either of the formats: \"First Last\" or \"Last, First\" </li>\n",
    "</ul>\n",
    "\n",
    "The function should return:\n",
    "<ul>\n",
    "<li> A tuple containing four items: </li>\n",
    "    <ul>\n",
    "    <li> A list of the first names </li>\n",
    "    <li> A list of the last names </li>\n",
    "    <li> A list of the full names in the \"First Last\" format </li>\n",
    "    <li> A list of the full names in the \"Last, First\" format </li>\n",
    "    </ul>\n",
    "</ul>\n",
    "\n",
    "The order should be maintained for the lists. "
   ]
  },
  {
   "cell_type": "code",
   "execution_count": 27,
   "metadata": {},
   "outputs": [],
   "source": [
    "sample_input_list = [\"John Smith\", \"Jane Doe\", \"Smith, Janice\", \"Doe, John\", \"Timmons, Tom\", \"Bob Johnson\"]"
   ]
  },
  {
   "cell_type": "code",
   "execution_count": 28,
   "metadata": {},
   "outputs": [],
   "source": [
    "def process_names(names):\n",
    "    first_names = []\n",
    "    last_names = []\n",
    "    full_names_first_last = []\n",
    "    full_names_last_first = []\n",
    "    \n",
    "    for name in names:\n",
    "        if ',' in name:\n",
    "            last, first = name.split(', ')\n",
    "            first_names.append(first)\n",
    "            last_names.append(last)\n",
    "            full_names_first_last.append(first + ' ' + last)\n",
    "            full_names_last_first.append(name)\n",
    "        else:\n",
    "            first, last = name.split(' ')\n",
    "            first_names.append(first)\n",
    "            last_names.append(last)\n",
    "            full_names_first_last.append(name)\n",
    "            full_names_last_first.append(last + ', ' + first)\n",
    "    \n",
    "    return (first_names, last_names, full_names_first_last, full_names_last_first)\n"
   ]
  },
  {
   "cell_type": "code",
   "execution_count": 29,
   "metadata": {},
   "outputs": [
    {
     "data": {
      "text/plain": [
       "(['John', 'Jane', 'Janice', 'John', 'Tom', 'Bob'],\n",
       " ['Smith', 'Doe', 'Smith', 'Doe', 'Timmons', 'Johnson'],\n",
       " ['John Smith',\n",
       "  'Jane Doe',\n",
       "  'Janice Smith',\n",
       "  'John Doe',\n",
       "  'Tom Timmons',\n",
       "  'Bob Johnson'],\n",
       " ['Smith, John',\n",
       "  'Doe, Jane',\n",
       "  'Smith, Janice',\n",
       "  'Doe, John',\n",
       "  'Timmons, Tom',\n",
       "  'Johnson, Bob'])"
      ]
     },
     "execution_count": 29,
     "metadata": {},
     "output_type": "execute_result"
    }
   ],
   "source": [
    "process_names(sample_input_list)"
   ]
  },
  {
   "cell_type": "markdown",
   "metadata": {},
   "source": [
    "## Question 2\n",
    "\n",
    "Create a function that takes in:\n",
    "<ul>\n",
    "<li> A dataframe </li>\n",
    "<li> A aggregation (i.e. sum, count, mean, median, standard deviation) </li>\n",
    "</ul>\n",
    "\n",
    "The function should print:\n",
    "<ul>\n",
    "<li> The aggregation of each <i>numeric</i>column in the dataframe </li>\n",
    "<li> The value counts of each <i>non-numeric</i> column in the dataframe </li>\n",
    "</ul>\n",
    "\n",
    "You will need to determine how to identify numeric and non-numeric columns, you can add additional arguments if you need/want (you could potentially make this automatic if the columns are not specified, and use what is provided if they are, but we haven't covered that yet - challenge problem!). Remember, this needs to be generic - so any dataframe should work, with any number/names of numeric and non-numeric columns. You'll also want to test this, so either pull in or create some data that allows you to test. If you're creating data, it is possible to automatically create random values, google that if needed. I personally would use some dataset for testing. "
   ]
  },
  {
   "cell_type": "code",
   "execution_count": 30,
   "metadata": {},
   "outputs": [],
   "source": [
    "# Code\n",
    "def aggregate_dataframe(df, aggregation):\n",
    "    numeric_columns = df.select_dtypes(include='number').columns\n",
    "    non_numeric_columns = df.select_dtypes(exclude='number').columns\n",
    "    \n",
    "    if aggregation in ['sum', 'count', 'mean', 'median', 'std']:\n",
    "        print(\"Aggregation of numeric columns:\")\n",
    "        print(df[numeric_columns].agg(aggregation))\n",
    "    else:\n",
    "        print(\"Invalid aggregation method.\")\n",
    "    \n",
    "    print(\"\\nValue counts of non-numeric columns:\")\n",
    "    for column in non_numeric_columns:\n",
    "        print(df[column].value_counts())\n"
   ]
  },
  {
   "cell_type": "code",
   "execution_count": 31,
   "metadata": {},
   "outputs": [
    {
     "name": "stdout",
     "output_type": "stream",
     "text": [
      "Aggregation of numeric columns:\n",
      "PassengerId    446.000000\n",
      "Survived         0.383838\n",
      "Pclass           2.308642\n",
      "Age             29.699118\n",
      "SibSp            0.523008\n",
      "Parch            0.381594\n",
      "Fare            32.204208\n",
      "dtype: float64\n",
      "\n",
      "Value counts of non-numeric columns:\n",
      "Braund, Mr. Owen Harris                     1\n",
      "Boulos, Mr. Hanna                           1\n",
      "Frolicher-Stehli, Mr. Maxmillian            1\n",
      "Gilinski, Mr. Eliezer                       1\n",
      "Murdlin, Mr. Joseph                         1\n",
      "                                           ..\n",
      "Kelly, Miss. Anna Katherine \"Annie Kate\"    1\n",
      "McCoy, Mr. Bernard                          1\n",
      "Johnson, Mr. William Cahoone Jr             1\n",
      "Keane, Miss. Nora A                         1\n",
      "Dooley, Mr. Patrick                         1\n",
      "Name: Name, Length: 891, dtype: int64\n",
      "male      577\n",
      "female    314\n",
      "Name: Sex, dtype: int64\n",
      "347082      7\n",
      "CA. 2343    7\n",
      "1601        7\n",
      "3101295     6\n",
      "CA 2144     6\n",
      "           ..\n",
      "9234        1\n",
      "19988       1\n",
      "2693        1\n",
      "PC 17612    1\n",
      "370376      1\n",
      "Name: Ticket, Length: 681, dtype: int64\n",
      "B96 B98        4\n",
      "G6             4\n",
      "C23 C25 C27    4\n",
      "C22 C26        3\n",
      "F33            3\n",
      "              ..\n",
      "E34            1\n",
      "C7             1\n",
      "C54            1\n",
      "E36            1\n",
      "C148           1\n",
      "Name: Cabin, Length: 147, dtype: int64\n",
      "S    644\n",
      "C    168\n",
      "Q     77\n",
      "Name: Embarked, dtype: int64\n"
     ]
    }
   ],
   "source": [
    "# Code\n",
    "df = pd.read_csv(FILE_PATH)\n",
    "aggregate_dataframe(df, 'mean')"
   ]
  },
  {
   "cell_type": "markdown",
   "metadata": {},
   "source": [
    "## Question 3\n",
    "\n",
    "Create a function that takes in:\n",
    "<ul>\n",
    "<li> A dataframe </li>\n",
    "<li> An operation - \"remove\", \"median\", \"mean\", \"mode\" </li>\n",
    "</ul>\n",
    "\n",
    "The function should return:\n",
    "<ul>\n",
    "<li> That data frame, with the operation performed on <b>any missing values</b> in the dataframe. </li>\n",
    "<li> The calculations should be done on a column by column basis. </li>\n",
    "<li> Think about what to do, logically, with categorical columns. </li>\n",
    "</ul>\n",
    "\n",
    "Again, you'll need some data to test. You may also want to generate some blank spaces in data that doesn't have much - this can be done randomly, and is a good interim step to search for and build. You can also look, on sites like Kaggle or Google Data Search, for datasets that have missing values. You can also upload a file into Colab then use it, Google \"upload file to colab\" for more step-by-step instructions."
   ]
  },
  {
   "cell_type": "code",
   "execution_count": 32,
   "metadata": {},
   "outputs": [],
   "source": [
    "# Code\n",
    "def handle_missing_values(df, operation):\n",
    "    if operation == \"remove\":\n",
    "        df = df.dropna()\n",
    "    elif operation == \"median\":\n",
    "        df = df.fillna(df.median())\n",
    "    elif operation == \"mean\":\n",
    "        df = df.fillna(df.mean())\n",
    "    elif operation == \"mode\":\n",
    "        df = df.fillna(df.mode().iloc[0])\n",
    "    else:\n",
    "        print(\"Invalid operation.\")\n",
    "    \n",
    "    return df\n"
   ]
  },
  {
   "cell_type": "markdown",
   "metadata": {},
   "source": [
    "## Question 4\n",
    "\n",
    "Create a function that takes in:\n",
    "<ul>\n",
    "<li> A list of strings </li>\n",
    "</ul>\n",
    "\n",
    "The function should return:\n",
    "<ul>\n",
    "<li> A list of the strings that are palindromes </li>\n",
    "</ul>"
   ]
  },
  {
   "cell_type": "code",
   "execution_count": 33,
   "metadata": {},
   "outputs": [],
   "source": [
    "# Code\n",
    "def find_palindromes(strings):\n",
    "    palindromes = []\n",
    "    for string in strings:\n",
    "        if string == string[::-1]:\n",
    "            palindromes.append(string)\n",
    "    return palindromes\n"
   ]
  },
  {
   "cell_type": "code",
   "execution_count": 34,
   "metadata": {},
   "outputs": [],
   "source": [
    "sample_list_palin = [\"radar\", \"madam\", \"hello\", \"world\", \"level\", \"python\", \"deified\", \"west\", \"east\", \"north\", \"south\"]"
   ]
  },
  {
   "cell_type": "code",
   "execution_count": 35,
   "metadata": {},
   "outputs": [
    {
     "data": {
      "text/plain": [
       "['radar', 'madam', 'level', 'deified']"
      ]
     },
     "execution_count": 35,
     "metadata": {},
     "output_type": "execute_result"
    }
   ],
   "source": [
    "find_palindromes(sample_list_palin)"
   ]
  },
  {
   "cell_type": "markdown",
   "metadata": {},
   "source": [
    "## Question 5\n",
    "\n",
    "Create a function that takes in:\n",
    "<ul>\n",
    "<li> A dataframe </li>\n",
    "<li> An \"outlier limit\" of standard deviations </li>\n",
    "<li> A \"count limit\" for categorical columns </li>\n",
    "</ul>\n",
    "\n",
    "The function should return:\n",
    "<ul>\n",
    "<li> A dataframe with the outliers removed - i.e. anything that is more than X standard deviations higher or lower than the mean is removed.</li>\n",
    "<li> The categorical columns that have less than X counts removed. </li>\n",
    "<li> The outliers should be removed on a column by column calculation basis. </li>\n",
    "</ul>\n",
    "\n",
    "This will need some data, either real or generated. If you find this easy, try to modify it to handle a list of specifications, so the user can provide the limits individually for each column."
   ]
  },
  {
   "cell_type": "code",
   "execution_count": 36,
   "metadata": {},
   "outputs": [],
   "source": [
    "import numpy as np\n",
    "# Code\n",
    "def remove_outliers(df, outlier_limit, count_limit):\n",
    "    # Remove outliers\n",
    "    numeric_columns = df.select_dtypes(include=np.number).columns\n",
    "    for column in numeric_columns:\n",
    "        mean = df[column].mean()\n",
    "        std = df[column].std()\n",
    "        lower_limit = mean - outlier_limit * std\n",
    "        upper_limit = mean + outlier_limit * std\n",
    "        df = df[(df[column] >= lower_limit) & (df[column] <= upper_limit)]\n",
    "    \n",
    "    # Remove categorical columns with count less than count_limit\n",
    "    categorical_columns = df.select_dtypes(exclude=np.number).columns\n",
    "    for column in categorical_columns:\n",
    "        counts = df[column].value_counts()\n",
    "        df = df[df[column].isin(counts[counts >= count_limit].index)]\n",
    "    \n",
    "    return df\n"
   ]
  },
  {
   "cell_type": "code",
   "execution_count": 37,
   "metadata": {},
   "outputs": [
    {
     "data": {
      "text/html": [
       "<div>\n",
       "<style scoped>\n",
       "    .dataframe tbody tr th:only-of-type {\n",
       "        vertical-align: middle;\n",
       "    }\n",
       "\n",
       "    .dataframe tbody tr th {\n",
       "        vertical-align: top;\n",
       "    }\n",
       "\n",
       "    .dataframe thead th {\n",
       "        text-align: right;\n",
       "    }\n",
       "</style>\n",
       "<table border=\"1\" class=\"dataframe\">\n",
       "  <thead>\n",
       "    <tr style=\"text-align: right;\">\n",
       "      <th></th>\n",
       "      <th>PassengerId</th>\n",
       "      <th>Survived</th>\n",
       "      <th>Pclass</th>\n",
       "      <th>Name</th>\n",
       "      <th>Sex</th>\n",
       "      <th>Age</th>\n",
       "      <th>SibSp</th>\n",
       "      <th>Parch</th>\n",
       "      <th>Ticket</th>\n",
       "      <th>Fare</th>\n",
       "      <th>Cabin</th>\n",
       "      <th>Embarked</th>\n",
       "    </tr>\n",
       "  </thead>\n",
       "  <tbody>\n",
       "  </tbody>\n",
       "</table>\n",
       "</div>"
      ],
      "text/plain": [
       "Empty DataFrame\n",
       "Columns: [PassengerId, Survived, Pclass, Name, Sex, Age, SibSp, Parch, Ticket, Fare, Cabin, Embarked]\n",
       "Index: []"
      ]
     },
     "execution_count": 37,
     "metadata": {},
     "output_type": "execute_result"
    }
   ],
   "source": [
    "remove_outliers(df, 3, 10)"
   ]
  }
 ],
 "metadata": {
  "kernelspec": {
   "display_name": "ml_2",
   "language": "python",
   "name": "python3"
  },
  "language_info": {
   "codemirror_mode": {
    "name": "ipython",
    "version": 3
   },
   "file_extension": ".py",
   "mimetype": "text/x-python",
   "name": "python",
   "nbconvert_exporter": "python",
   "pygments_lexer": "ipython3",
   "version": "3.10.9"
  }
 },
 "nbformat": 4,
 "nbformat_minor": 2
}
