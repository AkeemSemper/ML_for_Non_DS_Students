{
 "cells": [
  {
   "cell_type": "code",
   "execution_count": null,
   "metadata": {},
   "outputs": [],
   "source": []
  },
  {
   "cell_type": "code",
   "execution_count": 60,
   "metadata": {},
   "outputs": [],
   "source": [
    "import sys\n",
    "IN_COLAB = 'google.colab' in sys.modules\n",
    "\n",
    "if IN_COLAB:\n",
    "    !wget -nc https://github.com/AkeemSemper/ML_Introduction_for_non_Analysts/raw/main/data/NBA.csv\n",
    "    NBA = 'NBA.csv'\n",
    "    !wget -nc https://github.com/AkeemSemper/ML_Introduction_for_non_Analysts/raw/main/data/NFL.csv\n",
    "    NFL = 'NFL.csv'\n",
    "else:\n",
    "    NBA = '../data/NBA.csv'\n",
    "    NFL = '../data/NFL.csv'\n",
    "\n",
    "import pandas as pd\n",
    "import numpy as np\n",
    "import seaborn as sns\n",
    "import matplotlib.pyplot as plt"
   ]
  },
  {
   "cell_type": "markdown",
   "metadata": {},
   "source": [
    "# Semi-Simple Statistics - Variance and Standard Deviation\n",
    "\n",
    "We'll take a look at some measures of dispersion here - or how spread out is our data. \n",
    "Are all of our values closely grouped together, or are they spread all over the place?\n",
    "\n",
    "We'll consider two sets of data here: the height of NBA players and the height of NFL players. \n",
    "Think about what we can know going in... hint: there's some really, really tall basketball players."
   ]
  },
  {
   "cell_type": "code",
   "execution_count": 61,
   "metadata": {},
   "outputs": [
    {
     "data": {
      "text/html": [
       "<div>\n",
       "<style scoped>\n",
       "    .dataframe tbody tr th:only-of-type {\n",
       "        vertical-align: middle;\n",
       "    }\n",
       "\n",
       "    .dataframe tbody tr th {\n",
       "        vertical-align: top;\n",
       "    }\n",
       "\n",
       "    .dataframe thead th {\n",
       "        text-align: right;\n",
       "    }\n",
       "</style>\n",
       "<table border=\"1\" class=\"dataframe\">\n",
       "  <thead>\n",
       "    <tr style=\"text-align: right;\">\n",
       "      <th></th>\n",
       "      <th>Name</th>\n",
       "      <th>Games Played</th>\n",
       "      <th>MIN</th>\n",
       "      <th>PTS</th>\n",
       "      <th>FGM</th>\n",
       "      <th>FGA</th>\n",
       "      <th>FG%</th>\n",
       "      <th>3PM</th>\n",
       "      <th>3PA</th>\n",
       "      <th>3P%</th>\n",
       "      <th>...</th>\n",
       "      <th>Age</th>\n",
       "      <th>Birth_Place</th>\n",
       "      <th>Birthdate</th>\n",
       "      <th>Collage</th>\n",
       "      <th>Experience</th>\n",
       "      <th>Height</th>\n",
       "      <th>Pos</th>\n",
       "      <th>Team</th>\n",
       "      <th>Weight</th>\n",
       "      <th>BMI</th>\n",
       "    </tr>\n",
       "  </thead>\n",
       "  <tbody>\n",
       "    <tr>\n",
       "      <th>0</th>\n",
       "      <td>AJ Price</td>\n",
       "      <td>26</td>\n",
       "      <td>324</td>\n",
       "      <td>133</td>\n",
       "      <td>51</td>\n",
       "      <td>137</td>\n",
       "      <td>37.2</td>\n",
       "      <td>15</td>\n",
       "      <td>57</td>\n",
       "      <td>26.3</td>\n",
       "      <td>...</td>\n",
       "      <td>29.0</td>\n",
       "      <td>us</td>\n",
       "      <td>October 7, 1986</td>\n",
       "      <td>University of Connecticut</td>\n",
       "      <td>5</td>\n",
       "      <td>185.0</td>\n",
       "      <td>PG</td>\n",
       "      <td>PHO</td>\n",
       "      <td>81.45</td>\n",
       "      <td>23.798393</td>\n",
       "    </tr>\n",
       "    <tr>\n",
       "      <th>1</th>\n",
       "      <td>Aaron Brooks</td>\n",
       "      <td>82</td>\n",
       "      <td>1885</td>\n",
       "      <td>954</td>\n",
       "      <td>344</td>\n",
       "      <td>817</td>\n",
       "      <td>42.1</td>\n",
       "      <td>121</td>\n",
       "      <td>313</td>\n",
       "      <td>38.7</td>\n",
       "      <td>...</td>\n",
       "      <td>30.0</td>\n",
       "      <td>us</td>\n",
       "      <td>January 14, 1985</td>\n",
       "      <td>University of Oregon</td>\n",
       "      <td>6</td>\n",
       "      <td>180.0</td>\n",
       "      <td>PG</td>\n",
       "      <td>CHI</td>\n",
       "      <td>72.45</td>\n",
       "      <td>22.361111</td>\n",
       "    </tr>\n",
       "    <tr>\n",
       "      <th>2</th>\n",
       "      <td>Aaron Gordon</td>\n",
       "      <td>47</td>\n",
       "      <td>797</td>\n",
       "      <td>243</td>\n",
       "      <td>93</td>\n",
       "      <td>208</td>\n",
       "      <td>44.7</td>\n",
       "      <td>13</td>\n",
       "      <td>48</td>\n",
       "      <td>27.1</td>\n",
       "      <td>...</td>\n",
       "      <td>20.0</td>\n",
       "      <td>us</td>\n",
       "      <td>September 16, 1995</td>\n",
       "      <td>University of Arizona</td>\n",
       "      <td>R</td>\n",
       "      <td>202.5</td>\n",
       "      <td>PF</td>\n",
       "      <td>ORL</td>\n",
       "      <td>99.00</td>\n",
       "      <td>24.142661</td>\n",
       "    </tr>\n",
       "    <tr>\n",
       "      <th>3</th>\n",
       "      <td>Adreian Payne</td>\n",
       "      <td>32</td>\n",
       "      <td>740</td>\n",
       "      <td>213</td>\n",
       "      <td>91</td>\n",
       "      <td>220</td>\n",
       "      <td>41.4</td>\n",
       "      <td>1</td>\n",
       "      <td>9</td>\n",
       "      <td>11.1</td>\n",
       "      <td>...</td>\n",
       "      <td>24.0</td>\n",
       "      <td>us</td>\n",
       "      <td>February 19, 1991</td>\n",
       "      <td>Michigan State University</td>\n",
       "      <td>R</td>\n",
       "      <td>205.0</td>\n",
       "      <td>PF</td>\n",
       "      <td>ATL</td>\n",
       "      <td>106.65</td>\n",
       "      <td>25.377751</td>\n",
       "    </tr>\n",
       "    <tr>\n",
       "      <th>4</th>\n",
       "      <td>Al Horford</td>\n",
       "      <td>76</td>\n",
       "      <td>2318</td>\n",
       "      <td>1156</td>\n",
       "      <td>519</td>\n",
       "      <td>965</td>\n",
       "      <td>53.8</td>\n",
       "      <td>11</td>\n",
       "      <td>36</td>\n",
       "      <td>30.6</td>\n",
       "      <td>...</td>\n",
       "      <td>29.0</td>\n",
       "      <td>do</td>\n",
       "      <td>June 3, 1986</td>\n",
       "      <td>University of Florida</td>\n",
       "      <td>7</td>\n",
       "      <td>205.0</td>\n",
       "      <td>C</td>\n",
       "      <td>ATL</td>\n",
       "      <td>110.25</td>\n",
       "      <td>26.234384</td>\n",
       "    </tr>\n",
       "  </tbody>\n",
       "</table>\n",
       "<p>5 rows × 34 columns</p>\n",
       "</div>"
      ],
      "text/plain": [
       "            Name  Games Played   MIN   PTS  FGM  FGA   FG%  3PM  3PA   3P%  \\\n",
       "0       AJ Price            26   324   133   51  137  37.2   15   57  26.3   \n",
       "1   Aaron Brooks            82  1885   954  344  817  42.1  121  313  38.7   \n",
       "2   Aaron Gordon            47   797   243   93  208  44.7   13   48  27.1   \n",
       "3  Adreian Payne            32   740   213   91  220  41.4    1    9  11.1   \n",
       "4     Al Horford            76  2318  1156  519  965  53.8   11   36  30.6   \n",
       "\n",
       "   ...   Age  Birth_Place           Birthdate                    Collage  \\\n",
       "0  ...  29.0           us     October 7, 1986  University of Connecticut   \n",
       "1  ...  30.0           us    January 14, 1985       University of Oregon   \n",
       "2  ...  20.0           us  September 16, 1995      University of Arizona   \n",
       "3  ...  24.0           us   February 19, 1991  Michigan State University   \n",
       "4  ...  29.0           do        June 3, 1986      University of Florida   \n",
       "\n",
       "   Experience  Height  Pos  Team  Weight        BMI  \n",
       "0           5   185.0   PG   PHO   81.45  23.798393  \n",
       "1           6   180.0   PG   CHI   72.45  22.361111  \n",
       "2           R   202.5   PF   ORL   99.00  24.142661  \n",
       "3           R   205.0   PF   ATL  106.65  25.377751  \n",
       "4           7   205.0    C   ATL  110.25  26.234384  \n",
       "\n",
       "[5 rows x 34 columns]"
      ]
     },
     "execution_count": 61,
     "metadata": {},
     "output_type": "execute_result"
    }
   ],
   "source": [
    "#Import the two datasets\n",
    "dfNBA = pd.read_csv(NBA)\n",
    "dfNBA.head()"
   ]
  },
  {
   "cell_type": "code",
   "execution_count": 62,
   "metadata": {},
   "outputs": [
    {
     "data": {
      "text/html": [
       "<div>\n",
       "<style scoped>\n",
       "    .dataframe tbody tr th:only-of-type {\n",
       "        vertical-align: middle;\n",
       "    }\n",
       "\n",
       "    .dataframe tbody tr th {\n",
       "        vertical-align: top;\n",
       "    }\n",
       "\n",
       "    .dataframe thead th {\n",
       "        text-align: right;\n",
       "    }\n",
       "</style>\n",
       "<table border=\"1\" class=\"dataframe\">\n",
       "  <thead>\n",
       "    <tr style=\"text-align: right;\">\n",
       "      <th></th>\n",
       "      <th>Age</th>\n",
       "      <th>Birth Place</th>\n",
       "      <th>Birthday</th>\n",
       "      <th>College</th>\n",
       "      <th>Current Status</th>\n",
       "      <th>Current Team</th>\n",
       "      <th>Experience</th>\n",
       "      <th>Height (inches)</th>\n",
       "      <th>High School</th>\n",
       "      <th>High School Location</th>\n",
       "      <th>Name</th>\n",
       "      <th>Number</th>\n",
       "      <th>Player Id</th>\n",
       "      <th>Position</th>\n",
       "      <th>Weight (lbs)</th>\n",
       "      <th>Years Played</th>\n",
       "    </tr>\n",
       "  </thead>\n",
       "  <tbody>\n",
       "    <tr>\n",
       "      <th>0</th>\n",
       "      <td>NaN</td>\n",
       "      <td>Grand Rapids , MI</td>\n",
       "      <td>5/23/1921</td>\n",
       "      <td>Notre Dame</td>\n",
       "      <td>Retired</td>\n",
       "      <td>NaN</td>\n",
       "      <td>3 Seasons</td>\n",
       "      <td>71.0</td>\n",
       "      <td>NaN</td>\n",
       "      <td>NaN</td>\n",
       "      <td>Evans, Fred</td>\n",
       "      <td>NaN</td>\n",
       "      <td>fredevans/2513736</td>\n",
       "      <td>NaN</td>\n",
       "      <td>185.0</td>\n",
       "      <td>1946 - 1948</td>\n",
       "    </tr>\n",
       "    <tr>\n",
       "      <th>1</th>\n",
       "      <td>NaN</td>\n",
       "      <td>Dayton , OH</td>\n",
       "      <td>12/21/1930</td>\n",
       "      <td>Dayton</td>\n",
       "      <td>Retired</td>\n",
       "      <td>NaN</td>\n",
       "      <td>1 Season</td>\n",
       "      <td>70.0</td>\n",
       "      <td>NaN</td>\n",
       "      <td>NaN</td>\n",
       "      <td>Raiff, Jim</td>\n",
       "      <td>NaN</td>\n",
       "      <td>jimraiff/2523700</td>\n",
       "      <td>NaN</td>\n",
       "      <td>235.0</td>\n",
       "      <td>1954 - 1954</td>\n",
       "    </tr>\n",
       "    <tr>\n",
       "      <th>2</th>\n",
       "      <td>56.0</td>\n",
       "      <td>Temple , TX</td>\n",
       "      <td>9/11/1960</td>\n",
       "      <td>Louisiana Tech</td>\n",
       "      <td>Retired</td>\n",
       "      <td>NaN</td>\n",
       "      <td>1 Season</td>\n",
       "      <td>74.0</td>\n",
       "      <td>NaN</td>\n",
       "      <td>NaN</td>\n",
       "      <td>Fowler, Bobby</td>\n",
       "      <td>NaN</td>\n",
       "      <td>bobbyfowler/2514295</td>\n",
       "      <td>NaN</td>\n",
       "      <td>230.0</td>\n",
       "      <td>1985 - 1985</td>\n",
       "    </tr>\n",
       "    <tr>\n",
       "      <th>3</th>\n",
       "      <td>30.0</td>\n",
       "      <td>New Orleans , LA</td>\n",
       "      <td>9/30/1986</td>\n",
       "      <td>LSU</td>\n",
       "      <td>Retired</td>\n",
       "      <td>NaN</td>\n",
       "      <td>5 Seasons</td>\n",
       "      <td>73.0</td>\n",
       "      <td>NaN</td>\n",
       "      <td>NaN</td>\n",
       "      <td>Johnson, Quinn</td>\n",
       "      <td>NaN</td>\n",
       "      <td>quinnjohnson/79593</td>\n",
       "      <td>NaN</td>\n",
       "      <td>255.0</td>\n",
       "      <td>2009 - 2013</td>\n",
       "    </tr>\n",
       "    <tr>\n",
       "      <th>4</th>\n",
       "      <td>25.0</td>\n",
       "      <td>Detroit , MI</td>\n",
       "      <td>3/31/1992</td>\n",
       "      <td>Central Michigan</td>\n",
       "      <td>Active</td>\n",
       "      <td>Pittsburgh Steelers</td>\n",
       "      <td>3rd season</td>\n",
       "      <td>77.0</td>\n",
       "      <td>Clintondale HS</td>\n",
       "      <td>Clinton Twp.,Macomb Co., MI</td>\n",
       "      <td>Walton, L.T.</td>\n",
       "      <td>96.0</td>\n",
       "      <td>l.t.walton/2552444</td>\n",
       "      <td>DE</td>\n",
       "      <td>305.0</td>\n",
       "      <td>NaN</td>\n",
       "    </tr>\n",
       "  </tbody>\n",
       "</table>\n",
       "</div>"
      ],
      "text/plain": [
       "    Age        Birth Place    Birthday           College Current Status  \\\n",
       "0   NaN  Grand Rapids , MI   5/23/1921        Notre Dame        Retired   \n",
       "1   NaN        Dayton , OH  12/21/1930            Dayton        Retired   \n",
       "2  56.0        Temple , TX   9/11/1960    Louisiana Tech        Retired   \n",
       "3  30.0   New Orleans , LA   9/30/1986               LSU        Retired   \n",
       "4  25.0       Detroit , MI   3/31/1992  Central Michigan         Active   \n",
       "\n",
       "          Current Team  Experience  Height (inches)     High School  \\\n",
       "0                  NaN   3 Seasons             71.0             NaN   \n",
       "1                  NaN    1 Season             70.0             NaN   \n",
       "2                  NaN    1 Season             74.0             NaN   \n",
       "3                  NaN   5 Seasons             73.0             NaN   \n",
       "4  Pittsburgh Steelers  3rd season             77.0  Clintondale HS   \n",
       "\n",
       "          High School Location            Name  Number            Player Id  \\\n",
       "0                          NaN     Evans, Fred     NaN    fredevans/2513736   \n",
       "1                          NaN      Raiff, Jim     NaN     jimraiff/2523700   \n",
       "2                          NaN   Fowler, Bobby     NaN  bobbyfowler/2514295   \n",
       "3                          NaN  Johnson, Quinn     NaN   quinnjohnson/79593   \n",
       "4  Clinton Twp.,Macomb Co., MI    Walton, L.T.    96.0   l.t.walton/2552444   \n",
       "\n",
       "  Position  Weight (lbs) Years Played  \n",
       "0      NaN         185.0  1946 - 1948  \n",
       "1      NaN         235.0  1954 - 1954  \n",
       "2      NaN         230.0  1985 - 1985  \n",
       "3      NaN         255.0  2009 - 2013  \n",
       "4       DE         305.0          NaN  "
      ]
     },
     "execution_count": 62,
     "metadata": {},
     "output_type": "execute_result"
    }
   ],
   "source": [
    "#Import the two datasets\n",
    "dfNFL = pd.read_csv(NFL)\n",
    "dfNFL.head()"
   ]
  },
  {
   "cell_type": "markdown",
   "metadata": {},
   "source": [
    "## Gentle Intro to Numpy\n",
    "\n",
    "Numpy is another common library that we'll use quite a bit, it provides the data structure of an array, which will be much more useful later on. \n",
    "\n",
    "Here, we'll use several functions from numpy. Take a look at the \"mean\" function below - it does the exact same thing as the mean we used previously, the difference is that this one comes from the numpy package and the one we used last time comes from the pandas package. This does lead us into one common thing that can be confusing when we first start programming - where to put the function. \n",
    "\n",
    "If you recall from before, we got the mean by typing:\n",
    "<ul>\n",
    "<li> df[\"Height\"].mean()\n",
    "<li> Whereas now we are seeing...\n",
    "<li> np.mean(df[\"Height\"])\n",
    "</ul>\n",
    "\n",
    "These two thing do the same thing, but they do it in different ways. Why?\n",
    "\n",
    "In the first example, the ones we used last time, the \"mean\" function is \"part of\" the pandas library, i.e. it is literally a piece of code somewhere inside of the pandas files we are importing. More specifically, the mean function is (for lack of a better term) \"in\" the dataframe object. This will make more sense later on, but when you create objects (classes) when programming you can build them to store data (such as the dataframe sheet); you can also build them to have functionality - that is what the mean function, and the head function, etc... are. Because we are using something that is part of the dataframe object, we \"call it on\" that object, or\n",
    "\n",
    "> data_frame_object.Function_in_the_object_to_run(arguments)\n",
    "\n",
    "With the numpy ones we have here today it is a little different, we are using the mean function from numpy, which is not part of a dataframe. We are feeding it a dataframe as an input. So to call it we say...\n",
    "\n",
    "> library_name.which_function(data_to_use)\n",
    "\n",
    "The part before the period is where to look for the function, in the first it looks in the dataframe object, in the second it looks inside the numpy library. The part after the period is the function to find, in our case they are both the mean function. The arguments are additional data (or settings), for the first one we don't need anything else, as the function call already \"has\" the dataframe; in the numpy one we are calling a generic function, so in the argument we need to provide the data for it to use. This numpy function can do its mean calculation with many different types of inputs, so we can plug in a dataframe column, a series, an array, a list, etc... while still using one function.\n",
    "\n",
    "This concept is very common and we'll get used to it over time. As well, having a million ways to do things is very common - in this case using either is fine, but it can be easy to get mixed up, especially when you start, as you can see a million ways to do things. \n",
    "\n",
    "### Visualizing an Array, and Why?\n",
    "\n",
    "Arrays can be pictured like a dataframe, but a less flexible one. In data science, we commonly need to make our data into an array format before we can do the final steps of creating predictive models. This is largely because arrays are much more efficient to work with and calculations on values in an array are optimized to be quick. \n",
    "\n",
    "We need to be able to use and handle arrays, but we can normally do most of our work with data in a dataframe, then just convert it when needed. As well, many functions can accept data in a dataframe, array, or other data structure - for example, the plotting in seaborn can take pretty much any data, so many times we don't need to worry about it much. "
   ]
  },
  {
   "cell_type": "markdown",
   "metadata": {},
   "source": [
    "### Data Cleanup\n",
    "\n",
    "We should look at the data initially to see if there is anything that we need to \"clean\". Cleaning data is a common step that we always need to take, to some degree. \n",
    "\n",
    "\n",
    "\n",
    "Note: the \"str\" functions that you see down below just force values to be strings (text). "
   ]
  },
  {
   "cell_type": "code",
   "execution_count": 63,
   "metadata": {},
   "outputs": [],
   "source": [
    "#Take the height column\n",
    "nba = dfNBA[\"Height\"]\n",
    "nfl = dfNFL[\"Height (inches)\"]\n",
    "\n",
    "#Dump the non-numbers\n",
    "nba = nba[~np.isnan(nba)]\n",
    "nfl = nfl[~np.isnan(nfl)]"
   ]
  },
  {
   "cell_type": "markdown",
   "metadata": {},
   "source": [
    "#### Pandas Series\n",
    "We are also slicing out the individual columns we care about from the rest of the dataframe. In pandas-speak, this \"one column dataframe\" is called a series. We can treat it pretty much just like a dataframe, except we don't need to specify columns since there is only one. \n",
    "\n",
    "For most things our data can be in any type of data structure - a dataframe, series, array, list, etc - and we can deal with it in a largely interchangable way. Which we choose is determined by any other restrictions that need a certain type of data (we'll see this later), whatever is easier, or our preference. At the end of the day we can transfer data between data structures as we please, so whatever you are more comfortable with is OK."
   ]
  },
  {
   "cell_type": "code",
   "execution_count": 64,
   "metadata": {},
   "outputs": [
    {
     "name": "stdout",
     "output_type": "stream",
     "text": [
      "<class 'pandas.core.frame.DataFrame'>\n",
      "<class 'pandas.core.series.Series'>\n"
     ]
    }
   ],
   "source": [
    "print(type(dfNBA))\n",
    "print(type(nba))"
   ]
  },
  {
   "cell_type": "code",
   "execution_count": 65,
   "metadata": {},
   "outputs": [
    {
     "data": {
      "text/plain": [
       "0    185.0\n",
       "1    180.0\n",
       "2    202.5\n",
       "3    205.0\n",
       "4    205.0\n",
       "Name: Height, dtype: float64"
      ]
     },
     "execution_count": 65,
     "metadata": {},
     "output_type": "execute_result"
    }
   ],
   "source": [
    "nba.head()"
   ]
  },
  {
   "cell_type": "markdown",
   "metadata": {},
   "source": [
    "<b>Examples of the mean calculations from above.</b>"
   ]
  },
  {
   "cell_type": "code",
   "execution_count": 66,
   "metadata": {},
   "outputs": [
    {
     "name": "stdout",
     "output_type": "stream",
     "text": [
      "With pandas mean:\n",
      "NBA Mean Height: 197.44075829383885\n",
      "NFL Mean Height: 73.50839891929989\n",
      "\n",
      "\n",
      "With numpy mean:\n",
      "NBA Mean Height: 197.44075829383885\n",
      "NFL Mean Height: 73.50839891929989\n"
     ]
    }
   ],
   "source": [
    "print(\"With pandas mean:\")\n",
    "print(\"NBA Mean Height: \"+str(nba.mean()))\n",
    "print(\"NFL Mean Height: \"+str(nfl.mean()))\n",
    "\n",
    "print(\"\\n\")\n",
    "print(\"With numpy mean:\")\n",
    "print(\"NBA Mean Height: \"+str(np.mean(nba)))\n",
    "print(\"NFL Mean Height: \"+str(np.mean(nfl)))"
   ]
  },
  {
   "cell_type": "markdown",
   "metadata": {},
   "source": [
    "Well that's not great. NBA players probably aren't 2.5 times taller than NFL players!!\n",
    "\n",
    "We need to correct between inches and cm. We're metric people, so we'll make the NFLers into cm. \n",
    "\n",
    "There are lots of ways to do this. It is called mapping a function, or applying a function to every value, because ours is very simple, this shortcut works. The syntax of doing this with more complex functions can get very confusing, so internet examples might be complex.\n",
    "\n",
    "Note: if we need to do something repetitive over and over, there is almost always a way to automate it. This is a great spot to Google, as the way to do things like this can vary depending on our data. "
   ]
  },
  {
   "cell_type": "code",
   "execution_count": 67,
   "metadata": {},
   "outputs": [],
   "source": [
    "# Convert to cm\n",
    "nfl = nfl*2.54"
   ]
  },
  {
   "cell_type": "markdown",
   "metadata": {},
   "source": [
    "Alright, try again..."
   ]
  },
  {
   "cell_type": "code",
   "execution_count": 68,
   "metadata": {},
   "outputs": [
    {
     "name": "stdout",
     "output_type": "stream",
     "text": [
      "NBA Mean Height: 197.44075829383885\n",
      "NFL Mean Height: 186.71133325502174\n"
     ]
    }
   ],
   "source": [
    "print(\"NBA Mean Height: \"+str(np.mean(nba)))\n",
    "print(\"NFL Mean Height: \"+str(np.mean(nfl)))"
   ]
  },
  {
   "cell_type": "markdown",
   "metadata": {},
   "source": [
    "Use the cell below and determine the range of both the datasets. "
   ]
  },
  {
   "cell_type": "code",
   "execution_count": 69,
   "metadata": {},
   "outputs": [
    {
     "name": "stdout",
     "output_type": "stream",
     "text": [
      "NBA Range:  172.5 222.5\n",
      "NFL Range:  154.94 208.28\n"
     ]
    }
   ],
   "source": [
    "#Determine ranges\n",
    "print(\"NBA Range: \", str(np.min(nba)), str(np.max(nba)) )\n",
    "print(\"NFL Range: \", str(np.min(nfl)), str(np.max(nfl)) )"
   ]
  },
  {
   "cell_type": "markdown",
   "metadata": {},
   "source": [
    "Before moving on, we can use describe to get our basic stats in bulk. "
   ]
  },
  {
   "cell_type": "code",
   "execution_count": 70,
   "metadata": {},
   "outputs": [
    {
     "data": {
      "text/plain": [
       "count    422.000000\n",
       "mean     197.440758\n",
       "std        8.740250\n",
       "min      172.500000\n",
       "25%      190.000000\n",
       "50%      197.500000\n",
       "75%      205.000000\n",
       "max      222.500000\n",
       "Name: Height, dtype: float64"
      ]
     },
     "execution_count": 70,
     "metadata": {},
     "output_type": "execute_result"
    }
   ],
   "source": [
    "nba.describe()"
   ]
  },
  {
   "cell_type": "code",
   "execution_count": 71,
   "metadata": {},
   "outputs": [
    {
     "data": {
      "text/plain": [
       "count    17026.000000\n",
       "mean       186.711333\n",
       "std          6.547186\n",
       "min        154.940000\n",
       "25%        182.880000\n",
       "50%        187.960000\n",
       "75%        190.500000\n",
       "max        208.280000\n",
       "Name: Height (inches), dtype: float64"
      ]
     },
     "execution_count": 71,
     "metadata": {},
     "output_type": "execute_result"
    }
   ],
   "source": [
    "nfl.describe()"
   ]
  },
  {
   "cell_type": "markdown",
   "metadata": {},
   "source": [
    "At a glance, there don't seem to be any big issues to worry about:\n",
    "<ul>\n",
    "<li> There are no outliers that raise an alarm - no one is 8'4\". \n",
    "<li> The ranges seem realistic. \n",
    "<li> We have about 400 and 17000 records for the datasets, so we aren't dealing with a dataset with like 4 values or something. \n",
    "<li> It appears that the NFL players are shorter and have less of a spread in height, which matches my initial observations. \n",
    "</ul>\n",
    "\n",
    "<b> This looks reasonable. Our data appears to be mostly cleaned up, so we can start analyzing it.</b>"
   ]
  },
  {
   "cell_type": "markdown",
   "metadata": {},
   "source": [
    "### Visualize Distributions\n",
    "\n",
    "The averages, shown in cm, are around 6'6\" for the NBA, and 6'1\" for the NFL - this makes some sense, NBA players are often really tall\n",
    "\n",
    "We can picture the distribution of heights with some histograms... We'll do more histogram and visualization stuff next time. "
   ]
  },
  {
   "cell_type": "code",
   "execution_count": 72,
   "metadata": {},
   "outputs": [
    {
     "data": {
      "text/plain": [
       "<Axes: xlabel='Height', ylabel='Count'>"
      ]
     },
     "execution_count": 72,
     "metadata": {},
     "output_type": "execute_result"
    },
    {
     "data": {
      "image/png": "[encoded data removed]",
      "text/plain": [
       "<Figure size 640x480 with 1 Axes>"
      ]
     },
     "metadata": {},
     "output_type": "display_data"
    }
   ],
   "source": [
    "sns.histplot(nba)"
   ]
  },
  {
   "cell_type": "code",
   "execution_count": 92,
   "metadata": {},
   "outputs": [
    {
     "data": {
      "text/plain": [
       "<Axes: xlabel='Height (inches)', ylabel='Count'>"
      ]
     },
     "execution_count": 92,
     "metadata": {},
     "output_type": "execute_result"
    },
    {
     "data": {
      "image/png": "[encoded data removed]",
      "text/plain": [
       "<Figure size 640x480 with 1 Axes>"
      ]
     },
     "metadata": {},
     "output_type": "display_data"
    }
   ],
   "source": [
    "sns.histplot(nfl)\n",
    "#sns.histplot(nfl, bins=20)"
   ]
  },
  {
   "cell_type": "markdown",
   "metadata": {},
   "source": [
    "Both of the distributions look normal-ish (bell shaped), which is very common and makes some analysis easier. As we suspected with the numbers the NBA distribution is more spread out. If you know sports - what might be the reason for the big spike in the NBA distribution? \n",
    "\n",
    "One note here is that the NFl one looks weird, that's due to the conversion from inches to cm. Each inch is ~2.5cm, and since the original data doesn't have decimals in inches, that means we only get results every 2.5 cm in our converted data. We can make this visually nicer by changing the bin size, try changing the number of bins and redrawing the histogram above. \n",
    "\n",
    "We can also overlay the distributions for comparison... (The alpha setting makes the bars transparent, so we can see both distributions. I made the red one more see through). "
   ]
  },
  {
   "cell_type": "code",
   "execution_count": 94,
   "metadata": {},
   "outputs": [
    {
     "data": {
      "text/plain": [
       "<Axes: xlabel='Height', ylabel='Count'>"
      ]
     },
     "execution_count": 94,
     "metadata": {},
     "output_type": "execute_result"
    },
    {
     "data": {
      "image/png": "[encoded data removed]",
      "text/plain": [
       "<Figure size 640x480 with 1 Axes>"
      ]
     },
     "metadata": {},
     "output_type": "display_data"
    }
   ],
   "source": [
    "\n",
    "sns.histplot(nba, color='blue', label='NBA', bins=20)\n",
    "sns.histplot(nfl, color='red', label='NFL', bins=20, alpha=0.5)\n"
   ]
  },
  {
   "cell_type": "markdown",
   "metadata": {},
   "source": [
    "What happened??? There are way fewer NBA records, so the counts are lower. We have ways to deal with this, stay tuned for density. "
   ]
  },
  {
   "cell_type": "markdown",
   "metadata": {},
   "source": [
    "### Dispersion - Variance\n",
    "\n",
    "Now lets get down to business, which set of heights is more spread? Does this jive with reality (if you're a sports fan)?\n",
    "\n",
    "We can measure this, one measure is the Variance. The varaince formula is in the text, it is basically how far each value is from the mean, squared. Why squared...???????\n",
    "\n",
    "Luckily, we don't need to do the math, we have simple functions to do it for us. "
   ]
  },
  {
   "cell_type": "code",
   "execution_count": 75,
   "metadata": {},
   "outputs": [
    {
     "data": {
      "text/plain": [
       "76.21094539655442"
      ]
     },
     "execution_count": 75,
     "metadata": {},
     "output_type": "execute_result"
    }
   ],
   "source": [
    "np.var(nba)"
   ]
  },
  {
   "cell_type": "code",
   "execution_count": 76,
   "metadata": {},
   "outputs": [
    {
     "data": {
      "text/plain": [
       "42.863124981504704"
      ]
     },
     "execution_count": 76,
     "metadata": {},
     "output_type": "execute_result"
    }
   ],
   "source": [
    "np.var(nfl)"
   ]
  },
  {
   "cell_type": "markdown",
   "metadata": {},
   "source": [
    "The higher the variance, the larger the average distance from the mean for each value is. So high variances indicate that the data is very spread out; low variances indicate that data is very compact. In our data the NBA heights have a higher variance than the NFL, so that tells us that the heights of NBA players is more spread out than NFL players. \n",
    "\n",
    "If we add in some domain knowledge, i.e. watch some sports, that should make sense to us - there are a bunch of NBA players under 6ft, and a bunch over 7ft. "
   ]
  },
  {
   "cell_type": "markdown",
   "metadata": {},
   "source": [
    "#### Standard Deviation\n",
    "\n",
    "Another measure of dispersion is the Standard Deviation - the square root of the Variance.\n",
    "\n",
    "The standard deviation is normally used with normal distributions. If you remember all the z-score stuff from high school, that comes from this. When we are discussing dispersion the standard deviation is often more usable as it is on the same scale as the original data - the variance squares, the standard deviation takes it away. \n",
    "\n",
    "We can think back to some of that z-score stuff to picture exactly what the standard deviation shows - it tells us what share of values will be within X standard deviations of the mean. In a perfect normal distribution, ~68% of the results lie within 1 standard deviation of the mean, so with our data we can see that the 68% of NBA players are spread over a range of about 17.5cm (from -1 std to +1 std) centered at 197cm. With the NFL players those people are spread over a range of about 13cm. Intuitively this makes sense as there are way more basketball players that range into really large heights. \n",
    "\n",
    "<ul>\n",
    "<li>\"The Empirical Rule states that 99.7% of data observed following a normal distribution lies within 3 standard deviations of the mean. Under this rule, 68% of the data falls within one standard deviation, 95% percent within two standard deviations, and 99.7% within three standard deviations from the mean.\"\n",
    "</ul>\n",
    "\n",
    "So we can expect about 68% of players to be between ~189 and ~206cm, about 95% to be between ~180 and ~215cm, and about 99.7% between ~171 and ~223cm - or about 7'3\"!!! This is assuming that our data is normal though - if you look at the two datasets, do you see any issues with that? <b>The closer our data is to a true normal distribution, the more accurate these estimates will be - this concept will become important in a few weeks.</b>\n",
    "\n",
    "The standard deviation is generally more useful, and more commonly used, than the variance in most domains. One big factor in that is that the standard deviation is on the same scale as the original data, so it is easier to interpret; the variance is squared, so the actual numbers can be massive and don't really have anything to do with the original data. When using standard deviation, we can think of it as (roughly) the expected distance from the mean for each value. So if we have an average height of 180cm and a standard deviation of 10cm, we can expect a typical height to be, on average, about 10cm away from the mean. This isn't mathematically exact, but it is a reasonable rule of thumb, the squaring makes it slightly different from a straight average. The smaller this number is, the more tightly values are \"packed\" around the mean - we expect a typical value to be closer to the mean. "
   ]
  },
  {
   "cell_type": "code",
   "execution_count": 77,
   "metadata": {},
   "outputs": [
    {
     "data": {
      "text/plain": [
       "8.729888051776747"
      ]
     },
     "execution_count": 77,
     "metadata": {},
     "output_type": "execute_result"
    }
   ],
   "source": [
    "np.std(nba)"
   ]
  },
  {
   "cell_type": "code",
   "execution_count": 78,
   "metadata": {},
   "outputs": [
    {
     "data": {
      "text/plain": [
       "6.546993583432376"
      ]
     },
     "execution_count": 78,
     "metadata": {},
     "output_type": "execute_result"
    }
   ],
   "source": [
    "np.std(nfl)"
   ]
  },
  {
   "cell_type": "markdown",
   "metadata": {},
   "source": [
    "#### Medians and Typical Values\n",
    "\n",
    "The median is one of our other \"averages\", representing the value in the middle - with 50% of other values falling above, and 50% falling below. The median is very commonly useful in real-world, population based measures such as income. The median is less impacted by outliers than the mean, so in a situation where there are a few billionaires with massive incomes dragging up the mean, the median will not follow much. In cases such as this the median is a better representitive of an \"average example\". \n",
    "\n",
    "The more normal (term of art - more on normality later) data is, the closer the mean and the median will be; the more skewed the data, the farther apart. "
   ]
  },
  {
   "cell_type": "code",
   "execution_count": 79,
   "metadata": {},
   "outputs": [
    {
     "name": "stdout",
     "output_type": "stream",
     "text": [
      "NBA Median: 197.5\n",
      "NFL Median: 187.96\n"
     ]
    }
   ],
   "source": [
    "print(\"NBA Median:\", np.median(nba))\n",
    "print(\"NFL Median:\", np.median(nfl))"
   ]
  },
  {
   "cell_type": "markdown",
   "metadata": {},
   "source": [
    "##### Ranges and Values\n",
    "\n",
    "One other useful thing to know, is what's a 'typical' value. One way we can determine that is by measuring something called the interquartile range (IQF) - fancy term for the difference between the 25th percentile and the 75 percentile. Could this be useful for something like measuring income? \n",
    "\n",
    "The IQF is a measure of the spread of the middle 50% of the data. The smaller the IQF, the more tightly packed the data is around the median. It comes from splitting the data into 4 parts ('quartiles'), then measuring from the lowest value in quarter 2 to the highest value in quarter 3. Measurements such as the IQR are commonly used when looking at statistics related to populations, it gives a good idea of what a \"typical\" value is."
   ]
  },
  {
   "cell_type": "code",
   "execution_count": 80,
   "metadata": {},
   "outputs": [
    {
     "data": {
      "text/plain": [
       "count    422.000000\n",
       "mean     197.440758\n",
       "std        8.740250\n",
       "min      172.500000\n",
       "25%      190.000000\n",
       "50%      197.500000\n",
       "75%      205.000000\n",
       "max      222.500000\n",
       "Name: Height, dtype: float64"
      ]
     },
     "execution_count": 80,
     "metadata": {},
     "output_type": "execute_result"
    }
   ],
   "source": [
    "nba.describe()"
   ]
  },
  {
   "cell_type": "code",
   "execution_count": 81,
   "metadata": {},
   "outputs": [
    {
     "data": {
      "text/plain": [
       "count    17026.000000\n",
       "mean       186.711333\n",
       "std          6.547186\n",
       "min        154.940000\n",
       "25%        182.880000\n",
       "50%        187.960000\n",
       "75%        190.500000\n",
       "max        208.280000\n",
       "Name: Height (inches), dtype: float64"
      ]
     },
     "execution_count": 81,
     "metadata": {},
     "output_type": "execute_result"
    }
   ],
   "source": [
    "nfl.describe()"
   ]
  },
  {
   "cell_type": "markdown",
   "metadata": {},
   "source": [
    "In this example the IQR is the range between the 25th percentile and the 75th percentile. It tells us the range of the middle 50% of records. So half of the NFL players are between about 183 and 190 cm, a range of only about 7 or 8 cm. The NBA IQR is from about 190 to 205, or about 15 cm. So the \"middle height\" players in the NBA are spread over a much wider range. \n",
    "\n",
    "This IQR is common in social-science types of analysis - the data is often imperfect and incomplete, but the IQR can give us a good and reliable metric for the \"typical person\" without much calculation. "
   ]
  },
  {
   "cell_type": "markdown",
   "metadata": {},
   "source": [
    "## Probability Mass Functions and Density\n",
    "\n",
    "There's another tool we can use to examine some distributions, a probability mass function (PMF). PMFs largely provide the same functionality as histograms, but they show probability instead of total count. E.g. for our example a histogram would show how many NBA players are 205cm tall, a PMF would show the probability a NBA player is 205cm tall. This is especially useful when we have different total numbers. To demonstrate, try putting both the NBA and NFL histograms on one chart... Here, we'll create a slightly different type of plot, a \"kde\" plot. This is a density plot, which is a smoothed version of a histogram. For our purposes, it is basically the same thing.\n",
    "\n",
    "tl;dr the PMF is a histogram that plots that percentage or records, rather than the count of records. The KDE is a smoothed version of that. "
   ]
  },
  {
   "cell_type": "code",
   "execution_count": 82,
   "metadata": {},
   "outputs": [
    {
     "data": {
      "text/plain": [
       "<Axes: xlabel='Height', ylabel='Density'>"
      ]
     },
     "execution_count": 82,
     "metadata": {},
     "output_type": "execute_result"
    },
    {
     "data": {
      "image/png": "[encoded data removed]",
      "text/plain": [
       "<Figure size 640x480 with 1 Axes>"
      ]
     },
     "metadata": {},
     "output_type": "display_data"
    }
   ],
   "source": [
    "# Plot the PMF for NBA dataset\n",
    "sns.kdeplot(data=nba, label='NBA')\n",
    "\n",
    "# Plot the PMF for NFL dataset\n",
    "sns.kdeplot(data=nfl,label='NFL')"
   ]
  },
  {
   "cell_type": "markdown",
   "metadata": {},
   "source": [
    "<b>KDE charts allow us a more convinient way to look at this data, especially when we have a lot of data. </b>"
   ]
  },
  {
   "cell_type": "markdown",
   "metadata": {},
   "source": [
    "This graph is probably more useable, especially if we are using this data to try to draw conclusions or make predictions (which is the eventual point for all of this). For example, a glance at this chart tells us that about 15% of NBA players are ~205cm tall.\n",
    "\n",
    "If you're familiar with some calculus, you'd integrate this PMF to get the probability within any range (though this depends on having an analytical distribution, or one defined by a mathmatical function)"
   ]
  },
  {
   "cell_type": "markdown",
   "metadata": {},
   "source": [
    "## Exercise\n",
    "\n",
    "Do a similar analysis for the weights:\n",
    "<ul>\n",
    "<li> Load the data into two series (or another data structure, if prefered).\n",
    "<li> Clean and prep data for analysis. \n",
    "<li> Generate the basic statistics. \n",
    "<li> Generate visualizations of the distributions. \n",
    "<li> Draw basic conclusions comparing the two, include at least averages, outliers, and spread. \n",
    "</ul>"
   ]
  },
  {
   "cell_type": "markdown",
   "metadata": {},
   "source": [
    "##### Load Data into Data Structure"
   ]
  },
  {
   "cell_type": "code",
   "execution_count": 83,
   "metadata": {},
   "outputs": [],
   "source": [
    "#Take the height column\n",
    "nbaw = dfNBA[\"Weight\"]\n",
    "nflw = dfNFL[\"Weight (lbs)\"]"
   ]
  },
  {
   "cell_type": "code",
   "execution_count": 84,
   "metadata": {},
   "outputs": [
    {
     "data": {
      "text/plain": [
       "0     81.45\n",
       "1     72.45\n",
       "2     99.00\n",
       "3    106.65\n",
       "4    110.25\n",
       "Name: Weight, dtype: float64"
      ]
     },
     "execution_count": 84,
     "metadata": {},
     "output_type": "execute_result"
    }
   ],
   "source": [
    "nbaw.head()"
   ]
  },
  {
   "cell_type": "code",
   "execution_count": 85,
   "metadata": {},
   "outputs": [
    {
     "data": {
      "text/plain": [
       "0    185.0\n",
       "1    235.0\n",
       "2    230.0\n",
       "3    255.0\n",
       "4    305.0\n",
       "Name: Weight (lbs), dtype: float64"
      ]
     },
     "execution_count": 85,
     "metadata": {},
     "output_type": "execute_result"
    }
   ],
   "source": [
    "nflw.head()"
   ]
  },
  {
   "cell_type": "markdown",
   "metadata": {},
   "source": [
    "##### Clean and Prep\n",
    "\n",
    "Basic prep of data - look for blanks and outliers. "
   ]
  },
  {
   "cell_type": "markdown",
   "metadata": {},
   "source": [
    "Looks like we have pounds vs kilograms, similar to last time. We need to convert one, I'll take Murica's game and make it KG. "
   ]
  },
  {
   "cell_type": "code",
   "execution_count": 86,
   "metadata": {},
   "outputs": [],
   "source": [
    "nflw = nflw/2.205"
   ]
  },
  {
   "cell_type": "code",
   "execution_count": 87,
   "metadata": {},
   "outputs": [],
   "source": [
    "#Dump the non-numbers\n",
    "nbaw = nbaw[~np.isnan(nbaw)]\n",
    "nflw = nflw[~np.isnan(nflw)]"
   ]
  },
  {
   "cell_type": "markdown",
   "metadata": {},
   "source": [
    "##### Get Basic Stats\n",
    "\n",
    "Describe or mean, var, etc..."
   ]
  },
  {
   "cell_type": "code",
   "execution_count": 88,
   "metadata": {},
   "outputs": [
    {
     "data": {
      "text/plain": [
       "count    17121.000000\n",
       "mean       103.954950\n",
       "std         19.379924\n",
       "min          0.453515\n",
       "25%         88.435374\n",
       "50%         99.773243\n",
       "75%        115.646259\n",
       "max        170.068027\n",
       "Name: Weight (lbs), dtype: float64"
      ]
     },
     "execution_count": 88,
     "metadata": {},
     "output_type": "execute_result"
    }
   ],
   "source": [
    "nflw.describe()"
   ]
  },
  {
   "cell_type": "code",
   "execution_count": 89,
   "metadata": {},
   "outputs": [
    {
     "data": {
      "text/plain": [
       "count    422.000000\n",
       "mean      99.469194\n",
       "std       12.364228\n",
       "min       72.450000\n",
       "25%       90.000000\n",
       "50%       99.000000\n",
       "75%      108.000000\n",
       "max      162.000000\n",
       "Name: Weight, dtype: float64"
      ]
     },
     "execution_count": 89,
     "metadata": {},
     "output_type": "execute_result"
    }
   ],
   "source": [
    "nbaw.describe()"
   ]
  },
  {
   "cell_type": "markdown",
   "metadata": {},
   "source": [
    "A min weight for the NBA of 72kg sounds ok, but 1kg for NFL is clearly wrong. We should filter out any unrealistic values. I'm going to filter out people less than 70kg - roughly 160lb. "
   ]
  },
  {
   "cell_type": "code",
   "execution_count": 90,
   "metadata": {},
   "outputs": [
    {
     "data": {
      "text/plain": [
       "count    17072.000000\n",
       "mean       104.151578\n",
       "std         18.974298\n",
       "min         70.294785\n",
       "25%         88.888889\n",
       "50%         99.773243\n",
       "75%        115.646259\n",
       "max        170.068027\n",
       "Name: Weight (lbs), dtype: float64"
      ]
     },
     "execution_count": 90,
     "metadata": {},
     "output_type": "execute_result"
    }
   ],
   "source": [
    "nflw = nflw.loc[lambda x : x>=70]\n",
    "nflw.describe()"
   ]
  },
  {
   "cell_type": "markdown",
   "metadata": {},
   "source": [
    "Rounding"
   ]
  },
  {
   "cell_type": "markdown",
   "metadata": {},
   "source": [
    "##### Visualize\n",
    "\n",
    "I'm going to skip histograms and go straight to PMFs."
   ]
  },
  {
   "cell_type": "code",
   "execution_count": 91,
   "metadata": {},
   "outputs": [
    {
     "data": {
      "text/plain": [
       "<Axes: xlabel='Weight', ylabel='Density'>"
      ]
     },
     "execution_count": 91,
     "metadata": {},
     "output_type": "execute_result"
    },
    {
     "data": {
      "image/png": "[encoded data removed]",
      "text/plain": [
       "<Figure size 640x480 with 1 Axes>"
      ]
     },
     "metadata": {},
     "output_type": "display_data"
    }
   ],
   "source": [
    "#Graph\n",
    "sns.kdeplot(data=nbaw, label='NBA')\n",
    "sns.kdeplot(data=nflw,label='NFL')"
   ]
  },
  {
   "cell_type": "markdown",
   "metadata": {},
   "source": [
    "##### Basic Conclusions\n",
    "\n",
    "<ul>\n",
    "<li> NFL players are heavier, and more diverse in their weights. \n",
    "<li> The range of weights is mostly fairly similar between the two groups. \n",
    "<li> The NFL data has a bimodal (2 peaks) distribution - there's a big cluster of very large people. \n",
    "<li> The \"middle\" NBA and NFL players are similar in weights, most of the difference is in the number of very large people in the NFL. \n",
    "</ul>"
   ]
  }
 ],
 "metadata": {
  "kernelspec": {
   "display_name": "Python 3.9.7 ('ml3950')",
   "language": "python",
   "name": "python3"
  },
  "language_info": {
   "codemirror_mode": {
    "name": "ipython",
    "version": 3
   },
   "file_extension": ".py",
   "mimetype": "text/x-python",
   "name": "python",
   "nbconvert_exporter": "python",
   "pygments_lexer": "ipython3",
   "version": "3.10.9"
  },
  "orig_nbformat": 4,
  "vscode": {
   "interpreter": {
    "hash": "4d722d3adfa415172c1f5238b519fb86b488acdae450fd691ab06c09f4ca9173"
   }
  }
 },
 "nbformat": 4,
 "nbformat_minor": 2
}
